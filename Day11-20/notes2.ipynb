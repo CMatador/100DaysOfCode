{
 "cells": [
  {
   "cell_type": "code",
   "execution_count": 1,
   "metadata": {},
   "outputs": [
    {
     "name": "stdout",
     "output_type": "stream",
     "text": [
      "enemies inside function: 2\n",
      "enemies outside function: 1\n"
     ]
    }
   ],
   "source": [
    "################### Scope ####################\n",
    "\n",
    "# Variables defined outside are global and can be used in functions\n",
    "enemies = 1\n",
    "\n",
    "def increase_enemies():\n",
    "  # Variables inside a function are defined locally to that function\n",
    "  enemies = 2\n",
    "  print(f\"enemies inside function: {enemies}\")\n",
    "\n",
    "increase_enemies()\n",
    "print(f\"enemies outside function: {enemies}\")"
   ]
  },
  {
   "attachments": {},
   "cell_type": "markdown",
   "metadata": {},
   "source": [
    "### Debugging Process / Tips\n",
    "\n",
    "1. Describe the problem\n",
    "2. Reproduce the Bug\n",
    "3. Play Computer\n",
    "4. Fix the Errors\n",
    "5. Print is Your Friend\n",
    "6. Use a Debugger\n",
    "7. Take a Break\n",
    "8. Ask a Friend\n",
    "9. Run Often\n",
    "10. Ask StackOverflow"
   ]
  },
  {
   "cell_type": "code",
   "execution_count": 23,
   "metadata": {},
   "outputs": [
    {
     "name": "stdout",
     "output_type": "stream",
     "text": [
      "[2, 4, 6, 10, 16, 26]\n"
     ]
    }
   ],
   "source": [
    "############DEBUGGING#####################\n",
    "\n",
    "# # Describe Problem\n",
    "# def my_function():\n",
    "# # i never reaches 20 with range(1, 20)\n",
    "#   for i in range(1, 21):\n",
    "#     if i == 20:\n",
    "#       print(\"You got it\")\n",
    "# my_function()\n",
    "\n",
    "# # Reproduce the Bug\n",
    "# from random import randint\n",
    "# dice_imgs = [\"❶\", \"❷\", \"❸\", \"❹\", \"❺\", \"❻\"] \n",
    "# dice_num = randint(1, 6)\n",
    "# # dice_num is [1, 6] but index of dice_imgs is [0, 5] so need to offset\n",
    "# print(dice_imgs[dice_num - 1])\n",
    "\n",
    "# # Play Computer\n",
    "# year = int(input(\"What's your year of birth?\"))\n",
    "# # No case where year == 1994\n",
    "# if year > 1980 and year <= 1994:\n",
    "#   print(\"You are a millenial.\")\n",
    "# elif year > 1994:\n",
    "#   print(\"You are a Gen Z.\")\n",
    "\n",
    "# # Fix the Errors\n",
    "# # Needs to be cast as int\n",
    "# age = int(input(\"How old are you?\"))\n",
    "# if age > 18:\n",
    "#     # Code not indented properly, also f string missing 'f'\n",
    "#     print(f\"You can drive at age {age}.\")\n",
    "\n",
    "# #Print is Your Friend\n",
    "# pages = 0\n",
    "# word_per_page = 0\n",
    "# pages = int(input(\"Number of pages: \"))\n",
    "# # Wrong equality here\n",
    "# word_per_page = int(input(\"Number of words per page: \"))\n",
    "# # print(f'pages: {pages}')\n",
    "# # print(f'word_per_page: {word_per_page}')\n",
    "# total_words = pages * word_per_page\n",
    "# print(total_words)\n",
    "\n",
    "# #Use a Debugger\n",
    "# def mutate(a_list):\n",
    "#   b_list = []\n",
    "#   for item in a_list:\n",
    "#     new_item = item * 2\n",
    "#     # Append not indented into the for loop\n",
    "#     b_list.append(new_item)\n",
    "#   print(b_list)\n",
    "\n",
    "# mutate([1,2,3,5,8,13])"
   ]
  },
  {
   "cell_type": "code",
   "execution_count": 5,
   "metadata": {},
   "outputs": [
    {
     "data": {
      "text/plain": [
       "[2, 3, 11, 5, 6]"
      ]
     },
     "execution_count": 5,
     "metadata": {},
     "output_type": "execute_result"
    }
   ],
   "source": [
    "list = [2, 3, 4, 5, 6]\n",
    "list[list.index(4)] = 11\n",
    "list"
   ]
  },
  {
   "attachments": {},
   "cell_type": "markdown",
   "metadata": {},
   "source": [
    "### Object Oriented Programming"
   ]
  },
  {
   "attachments": {},
   "cell_type": "markdown",
   "metadata": {},
   "source": [
    "Attributes - peoperties an object has (variables)\n",
    "\n",
    "Methods - things the object can do (functions)"
   ]
  },
  {
   "cell_type": "code",
   "execution_count": 4,
   "metadata": {},
   "outputs": [
    {
     "name": "stdout",
     "output_type": "stream",
     "text": [
      "0 1\n",
      "1 0\n"
     ]
    }
   ],
   "source": [
    "class User:\n",
    "    def __init__(self, id, username):\n",
    "        self.id = id\n",
    "        self.username = username\n",
    "        self.followers = 0\n",
    "        self.following = 0\n",
    "    \n",
    "    def follow(self, user):\n",
    "        user.followers += 1\n",
    "        self.following += 1\n",
    "\n",
    "user_1 = User('001', 'Chris')\n",
    "user_2 = User('002', 'Jack')\n",
    "\n",
    "user_1.follow(user_2)\n",
    "print(user_1.followers, user_1.following)\n",
    "print(user_2.followers, user_2.following)"
   ]
  }
 ],
 "metadata": {
  "kernelspec": {
   "display_name": "base",
   "language": "python",
   "name": "python3"
  },
  "language_info": {
   "codemirror_mode": {
    "name": "ipython",
    "version": 3
   },
   "file_extension": ".py",
   "mimetype": "text/x-python",
   "name": "python",
   "nbconvert_exporter": "python",
   "pygments_lexer": "ipython3",
   "version": "3.8.8"
  },
  "orig_nbformat": 4,
  "vscode": {
   "interpreter": {
    "hash": "fb833273add3e7c60eb33c0608260b79a61e072ade6f02cc8d07b0a26eef8ab8"
   }
  }
 },
 "nbformat": 4,
 "nbformat_minor": 2
}
