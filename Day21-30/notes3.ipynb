{
 "cells": [
  {
   "cell_type": "code",
   "execution_count": 7,
   "metadata": {},
   "outputs": [
    {
     "name": "stdout",
     "output_type": "stream",
     "text": [
      "Here's some text for ya mate.\n",
      "New text\n"
     ]
    }
   ],
   "source": [
    "with open('/Users/chris/OneDrive/Desktop/my_file.txt') as file:\n",
    "    contents = file.read()\n",
    "    print(contents)"
   ]
  },
  {
   "cell_type": "code",
   "execution_count": 8,
   "metadata": {},
   "outputs": [],
   "source": [
    "import pandas as pd"
   ]
  },
  {
   "cell_type": "code",
   "execution_count": 5,
   "metadata": {},
   "outputs": [],
   "source": [
    "with open('../../../../my_file.txt', mode='a') as file:\n",
    "    file.write('\\nNew text')"
   ]
  },
  {
   "cell_type": "code",
   "execution_count": 9,
   "metadata": {},
   "outputs": [
    {
     "name": "stdout",
     "output_type": "stream",
     "text": [
      "['day,temp,condition\\n', 'Monday,12,Sunny\\n', 'Tuesday,14,Rain\\n', 'Wednesday,15,Rain\\n', 'Thursday,14,Cloudy\\n', 'Friday,21,Sunny\\n', 'Saturday,22,Sunny\\n', 'Sunday,24,Sunny']\n"
     ]
    }
   ],
   "source": [
    "# with open('weather_data.csv') as weather:\n",
    "#     data = weather.readlines()\n",
    "# print(data)"
   ]
  },
  {
   "cell_type": "code",
   "execution_count": 19,
   "metadata": {},
   "outputs": [
    {
     "name": "stdout",
     "output_type": "stream",
     "text": [
      "[12, 14, 15, 14, 21, 22, 24]\n"
     ]
    }
   ],
   "source": [
    "import csv\n",
    "\n",
    "with open('weather_data.csv') as data_file:\n",
    "    data = csv.reader(data_file)\n",
    "    temperatures = []\n",
    "    for row in data:\n",
    "        if row[1] != 'temp':\n",
    "            temperatures.append(int(row[1]))\n",
    "    print(temperatures)"
   ]
  },
  {
   "cell_type": "code",
   "execution_count": 35,
   "metadata": {},
   "outputs": [
    {
     "name": "stdout",
     "output_type": "stream",
     "text": [
      "57.2\n"
     ]
    }
   ],
   "source": [
    "data = pd.read_csv('weather_data.csv')\n",
    "# print(data[data['temp'] == data['temp'].max()])\n",
    "\n",
    "print(data['temp'][1] * (9/5) + 32)"
   ]
  },
  {
   "cell_type": "code",
   "execution_count": 57,
   "metadata": {},
   "outputs": [],
   "source": [
    "squirrel_df = pd.read_csv('2018_Central_Park_Squirrel_Census_-_Squirrel_Data.csv')\n",
    "\n",
    "fur_color = squirrel_df.value_counts('Primary Fur Color')\n",
    "# fur_color.to_csv('squirrel_count.csv')"
   ]
  },
  {
   "cell_type": "code",
   "execution_count": null,
   "metadata": {},
   "outputs": [],
   "source": [
    "# List Comprehension\n",
    "\n",
    "# new_list = [new_item for item in list]"
   ]
  },
  {
   "cell_type": "code",
   "execution_count": 2,
   "metadata": {},
   "outputs": [
    {
     "name": "stdout",
     "output_type": "stream",
     "text": [
      "['A', 'n', 'g', 'e', 'l', 'a']\n"
     ]
    }
   ],
   "source": [
    "numbers = [1, 2, 3]\n",
    "new_numbers = [n + 1 for n in numbers]\n",
    "\n",
    "name = 'Angela'\n",
    "new_list = [letter for letter in name]\n",
    "print(new_list)"
   ]
  },
  {
   "cell_type": "code",
   "execution_count": 4,
   "metadata": {},
   "outputs": [
    {
     "name": "stdout",
     "output_type": "stream",
     "text": [
      "[2, 4, 6, 8]\n"
     ]
    }
   ],
   "source": [
    "double = [x * 2 for x in range(1, 5)]\n",
    "print(double)"
   ]
  },
  {
   "cell_type": "code",
   "execution_count": 5,
   "metadata": {},
   "outputs": [
    {
     "name": "stdout",
     "output_type": "stream",
     "text": [
      "['CAROLINE', 'ELEANOR', 'FREDDIE']\n"
     ]
    }
   ],
   "source": [
    "# new_list = [new_item for item in list if condition]\n",
    "\n",
    "names = ['Alex', 'Beth', 'Caroline', 'Dave', 'Eleanor', 'Freddie']\n",
    "caps = [name.upper() for name in names if len(name) > 5]\n",
    "print(caps)"
   ]
  },
  {
   "cell_type": "code",
   "execution_count": null,
   "metadata": {},
   "outputs": [],
   "source": [
    "# Dictionary Comprehension\n",
    "# new dict = {new_key : new_value for item in list}\n",
    "# new_dict = {new_key : new_value for (key, value) in dict.items() if test}"
   ]
  },
  {
   "cell_type": "code",
   "execution_count": 6,
   "metadata": {},
   "outputs": [
    {
     "name": "stdout",
     "output_type": "stream",
     "text": [
      "{'Alex': 95, 'Beth': 67, 'Caroline': 78, 'Dave': 52, 'Eleanor': 72, 'Freddie': 94}\n",
      "{'Alex': 95, 'Beth': 67, 'Caroline': 78, 'Eleanor': 72, 'Freddie': 94}\n"
     ]
    }
   ],
   "source": [
    "import random\n",
    "names = ['Alex', 'Beth', 'Caroline', 'Dave', 'Eleanor', 'Freddie']\n",
    "student_scores = {student : random.randint(0, 100) for student in names}\n",
    "\n",
    "passed_students = {\n",
    "    student : grade for (student, grade) in student_scores.items() if grade >= 60\n",
    "    }\n",
    "\n",
    "print(student_scores)\n",
    "print(passed_students)"
   ]
  },
  {
   "cell_type": "code",
   "execution_count": 32,
   "metadata": {},
   "outputs": [],
   "source": [
    "from tkinter import *\n",
    "\n",
    "def button_clicked():\n",
    "    my_label['text'] = input.get()\n",
    "\n",
    "\n",
    "window = Tk()\n",
    "window.title('My First GUI Program')\n",
    "window.minsize(width=500, height=300)\n",
    "window.config(padx=20, pady=20)\n",
    "\n",
    "# Label\n",
    "my_label = Label(\n",
    "    text='I am a Label',\n",
    "    font=('Arial', 24, 'bold')\n",
    "    )\n",
    "my_label.grid(column=0, row=0)\n",
    "\n",
    "my_label['text'] = 'New Text'\n",
    "my_label.config(padx=20, pady=20)\n",
    "\n",
    "# Button\n",
    "\n",
    "button = Button(\n",
    "    text='Click Me',\n",
    "    command=button_clicked\n",
    ")\n",
    "button.grid(column=1, row=1)\n",
    "\n",
    "new_button = Button(\n",
    "    text='New Button'\n",
    ")\n",
    "new_button.grid(row=0, column=2)\n",
    "\n",
    "# Entry\n",
    "input = Entry(width=10)\n",
    "input.grid(row=2, column=3)\n",
    "\n",
    "window.mainloop()"
   ]
  },
  {
   "cell_type": "code",
   "execution_count": 9,
   "metadata": {},
   "outputs": [],
   "source": [
    "def add(*args):\n",
    "    sum = 0\n",
    "    for n in args:\n",
    "        sum += n\n",
    "    return sum"
   ]
  },
  {
   "cell_type": "code",
   "execution_count": 10,
   "metadata": {},
   "outputs": [
    {
     "data": {
      "text/plain": [
       "34"
      ]
     },
     "execution_count": 10,
     "metadata": {},
     "output_type": "execute_result"
    }
   ],
   "source": [
    "print(add(10, 12, 9, 3))"
   ]
  },
  {
   "cell_type": "code",
   "execution_count": 8,
   "metadata": {},
   "outputs": [],
   "source": [
    "# FileNotFound\n",
    "# try:\n",
    "#     file = open('a_file.txt')\n",
    "# except:\n",
    "#     file = open('a_file.txt', 'w')\n",
    "\n",
    "# KeyError\n",
    "# dictionary = {'a': 1}\n",
    "# value = dictionary['b']\n",
    "\n",
    "# IndexError\n",
    "# my_list = [1, 2, 3]\n",
    "# my_list[3]\n",
    "\n",
    "# TypeError\n",
    "# print('abc' + 123)\n",
    "\n",
    "# try:\n",
    "#     Something that might cause an Exception\n",
    "# except:\n",
    "#     Do this if there was an exception\n",
    "# else:\n",
    "#     DO this if there were no exceptions\n",
    "# finally:\n",
    "#     Do this no matter what happens"
   ]
  }
 ],
 "metadata": {
  "kernelspec": {
   "display_name": "base",
   "language": "python",
   "name": "python3"
  },
  "language_info": {
   "codemirror_mode": {
    "name": "ipython",
    "version": 3
   },
   "file_extension": ".py",
   "mimetype": "text/x-python",
   "name": "python",
   "nbconvert_exporter": "python",
   "pygments_lexer": "ipython3",
   "version": "3.8.8"
  },
  "orig_nbformat": 4,
  "vscode": {
   "interpreter": {
    "hash": "fb833273add3e7c60eb33c0608260b79a61e072ade6f02cc8d07b0a26eef8ab8"
   }
  }
 },
 "nbformat": 4,
 "nbformat_minor": 2
}
