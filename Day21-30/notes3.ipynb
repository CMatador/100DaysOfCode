{
 "cells": [
  {
   "cell_type": "code",
   "execution_count": 7,
   "metadata": {},
   "outputs": [
    {
     "name": "stdout",
     "output_type": "stream",
     "text": [
      "Here's some text for ya mate.\n",
      "New text\n"
     ]
    }
   ],
   "source": [
    "with open('/Users/chris/OneDrive/Desktop/my_file.txt') as file:\n",
    "    contents = file.read()\n",
    "    print(contents)"
   ]
  },
  {
   "cell_type": "code",
   "execution_count": 8,
   "metadata": {},
   "outputs": [],
   "source": [
    "import pandas as pd"
   ]
  },
  {
   "cell_type": "code",
   "execution_count": 5,
   "metadata": {},
   "outputs": [],
   "source": [
    "with open('../../../../my_file.txt', mode='a') as file:\n",
    "    file.write('\\nNew text')"
   ]
  },
  {
   "cell_type": "code",
   "execution_count": 9,
   "metadata": {},
   "outputs": [
    {
     "name": "stdout",
     "output_type": "stream",
     "text": [
      "['day,temp,condition\\n', 'Monday,12,Sunny\\n', 'Tuesday,14,Rain\\n', 'Wednesday,15,Rain\\n', 'Thursday,14,Cloudy\\n', 'Friday,21,Sunny\\n', 'Saturday,22,Sunny\\n', 'Sunday,24,Sunny']\n"
     ]
    }
   ],
   "source": [
    "# with open('weather_data.csv') as weather:\n",
    "#     data = weather.readlines()\n",
    "# print(data)"
   ]
  },
  {
   "cell_type": "code",
   "execution_count": 19,
   "metadata": {},
   "outputs": [
    {
     "name": "stdout",
     "output_type": "stream",
     "text": [
      "[12, 14, 15, 14, 21, 22, 24]\n"
     ]
    }
   ],
   "source": [
    "import csv\n",
    "\n",
    "with open('weather_data.csv') as data_file:\n",
    "    data = csv.reader(data_file)\n",
    "    temperatures = []\n",
    "    for row in data:\n",
    "        if row[1] != 'temp':\n",
    "            temperatures.append(int(row[1]))\n",
    "    print(temperatures)"
   ]
  },
  {
   "cell_type": "code",
   "execution_count": 35,
   "metadata": {},
   "outputs": [
    {
     "name": "stdout",
     "output_type": "stream",
     "text": [
      "57.2\n"
     ]
    }
   ],
   "source": [
    "data = pd.read_csv('weather_data.csv')\n",
    "# print(data[data['temp'] == data['temp'].max()])\n",
    "\n",
    "print(data['temp'][1] * (9/5) + 32)"
   ]
  },
  {
   "cell_type": "code",
   "execution_count": 57,
   "metadata": {},
   "outputs": [],
   "source": [
    "squirrel_df = pd.read_csv('2018_Central_Park_Squirrel_Census_-_Squirrel_Data.csv')\n",
    "\n",
    "fur_color = squirrel_df.value_counts('Primary Fur Color')\n",
    "# fur_color.to_csv('squirrel_count.csv')"
   ]
  }
 ],
 "metadata": {
  "kernelspec": {
   "display_name": "base",
   "language": "python",
   "name": "python3"
  },
  "language_info": {
   "codemirror_mode": {
    "name": "ipython",
    "version": 3
   },
   "file_extension": ".py",
   "mimetype": "text/x-python",
   "name": "python",
   "nbconvert_exporter": "python",
   "pygments_lexer": "ipython3",
   "version": "3.8.8"
  },
  "orig_nbformat": 4,
  "vscode": {
   "interpreter": {
    "hash": "fb833273add3e7c60eb33c0608260b79a61e072ade6f02cc8d07b0a26eef8ab8"
   }
  }
 },
 "nbformat": 4,
 "nbformat_minor": 2
}
